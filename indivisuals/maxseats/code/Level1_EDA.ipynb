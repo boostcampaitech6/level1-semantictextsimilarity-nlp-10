{
  "nbformat": 4,
  "nbformat_minor": 0,
  "metadata": {
    "colab": {
      "provenance": []
    },
    "kernelspec": {
      "name": "python3",
      "display_name": "Python 3"
    },
    "language_info": {
      "name": "python"
    }
  },
  "cells": [
    {
      "cell_type": "code",
      "execution_count": 1,
      "metadata": {
        "id": "t6_Se-vN_3DQ",
        "colab": {
          "base_uri": "https://localhost:8080/",
          "height": 310
        },
        "outputId": "17fdc17a-3a2d-42cf-b93c-27990047cf41"
      },
      "outputs": [
        {
          "output_type": "execute_result",
          "data": {
            "text/plain": [
              "                           id            source  \\\n",
              "0  boostcamp-sts-v1-train-000      nsmc-sampled   \n",
              "1  boostcamp-sts-v1-train-001         slack-rtt   \n",
              "2  boostcamp-sts-v1-train-002  petition-sampled   \n",
              "3  boostcamp-sts-v1-train-003     slack-sampled   \n",
              "4  boostcamp-sts-v1-train-004     slack-sampled   \n",
              "\n",
              "                               sentence_1                    sentence_2  \\\n",
              "0  스릴도있고 반전도 있고 여느 한국영화 쓰레기들하고는 차원이 다르네요~          반전도 있고,사랑도 있고재미도있네요.   \n",
              "1                    앗 제가 접근권한이 없다고 뜹니다;;           오, 액세스 권한이 없다고 합니다.   \n",
              "2                          주택청약조건 변경해주세요.            주택청약 무주택기준 변경해주세요.   \n",
              "3                  입사후 처음 대면으로 만나 반가웠습니다.  화상으로만 보다가 리얼로 만나니 정말 반가웠습니다.   \n",
              "4                              뿌듯뿌듯 하네요!!         꼬옥 실제로 한번 뵈어요 뿌뿌뿌~!~!   \n",
              "\n",
              "   label  binary-label  \n",
              "0    2.2           0.0  \n",
              "1    4.2           1.0  \n",
              "2    2.4           0.0  \n",
              "3    3.0           1.0  \n",
              "4    0.0           0.0  "
            ],
            "text/html": [
              "\n",
              "  <div id=\"df-3bb5b2ad-c210-4e23-98e1-452abe164060\" class=\"colab-df-container\">\n",
              "    <div>\n",
              "<style scoped>\n",
              "    .dataframe tbody tr th:only-of-type {\n",
              "        vertical-align: middle;\n",
              "    }\n",
              "\n",
              "    .dataframe tbody tr th {\n",
              "        vertical-align: top;\n",
              "    }\n",
              "\n",
              "    .dataframe thead th {\n",
              "        text-align: right;\n",
              "    }\n",
              "</style>\n",
              "<table border=\"1\" class=\"dataframe\">\n",
              "  <thead>\n",
              "    <tr style=\"text-align: right;\">\n",
              "      <th></th>\n",
              "      <th>id</th>\n",
              "      <th>source</th>\n",
              "      <th>sentence_1</th>\n",
              "      <th>sentence_2</th>\n",
              "      <th>label</th>\n",
              "      <th>binary-label</th>\n",
              "    </tr>\n",
              "  </thead>\n",
              "  <tbody>\n",
              "    <tr>\n",
              "      <th>0</th>\n",
              "      <td>boostcamp-sts-v1-train-000</td>\n",
              "      <td>nsmc-sampled</td>\n",
              "      <td>스릴도있고 반전도 있고 여느 한국영화 쓰레기들하고는 차원이 다르네요~</td>\n",
              "      <td>반전도 있고,사랑도 있고재미도있네요.</td>\n",
              "      <td>2.2</td>\n",
              "      <td>0.0</td>\n",
              "    </tr>\n",
              "    <tr>\n",
              "      <th>1</th>\n",
              "      <td>boostcamp-sts-v1-train-001</td>\n",
              "      <td>slack-rtt</td>\n",
              "      <td>앗 제가 접근권한이 없다고 뜹니다;;</td>\n",
              "      <td>오, 액세스 권한이 없다고 합니다.</td>\n",
              "      <td>4.2</td>\n",
              "      <td>1.0</td>\n",
              "    </tr>\n",
              "    <tr>\n",
              "      <th>2</th>\n",
              "      <td>boostcamp-sts-v1-train-002</td>\n",
              "      <td>petition-sampled</td>\n",
              "      <td>주택청약조건 변경해주세요.</td>\n",
              "      <td>주택청약 무주택기준 변경해주세요.</td>\n",
              "      <td>2.4</td>\n",
              "      <td>0.0</td>\n",
              "    </tr>\n",
              "    <tr>\n",
              "      <th>3</th>\n",
              "      <td>boostcamp-sts-v1-train-003</td>\n",
              "      <td>slack-sampled</td>\n",
              "      <td>입사후 처음 대면으로 만나 반가웠습니다.</td>\n",
              "      <td>화상으로만 보다가 리얼로 만나니 정말 반가웠습니다.</td>\n",
              "      <td>3.0</td>\n",
              "      <td>1.0</td>\n",
              "    </tr>\n",
              "    <tr>\n",
              "      <th>4</th>\n",
              "      <td>boostcamp-sts-v1-train-004</td>\n",
              "      <td>slack-sampled</td>\n",
              "      <td>뿌듯뿌듯 하네요!!</td>\n",
              "      <td>꼬옥 실제로 한번 뵈어요 뿌뿌뿌~!~!</td>\n",
              "      <td>0.0</td>\n",
              "      <td>0.0</td>\n",
              "    </tr>\n",
              "  </tbody>\n",
              "</table>\n",
              "</div>\n",
              "    <div class=\"colab-df-buttons\">\n",
              "\n",
              "  <div class=\"colab-df-container\">\n",
              "    <button class=\"colab-df-convert\" onclick=\"convertToInteractive('df-3bb5b2ad-c210-4e23-98e1-452abe164060')\"\n",
              "            title=\"Convert this dataframe to an interactive table.\"\n",
              "            style=\"display:none;\">\n",
              "\n",
              "  <svg xmlns=\"http://www.w3.org/2000/svg\" height=\"24px\" viewBox=\"0 -960 960 960\">\n",
              "    <path d=\"M120-120v-720h720v720H120Zm60-500h600v-160H180v160Zm220 220h160v-160H400v160Zm0 220h160v-160H400v160ZM180-400h160v-160H180v160Zm440 0h160v-160H620v160ZM180-180h160v-160H180v160Zm440 0h160v-160H620v160Z\"/>\n",
              "  </svg>\n",
              "    </button>\n",
              "\n",
              "  <style>\n",
              "    .colab-df-container {\n",
              "      display:flex;\n",
              "      gap: 12px;\n",
              "    }\n",
              "\n",
              "    .colab-df-convert {\n",
              "      background-color: #E8F0FE;\n",
              "      border: none;\n",
              "      border-radius: 50%;\n",
              "      cursor: pointer;\n",
              "      display: none;\n",
              "      fill: #1967D2;\n",
              "      height: 32px;\n",
              "      padding: 0 0 0 0;\n",
              "      width: 32px;\n",
              "    }\n",
              "\n",
              "    .colab-df-convert:hover {\n",
              "      background-color: #E2EBFA;\n",
              "      box-shadow: 0px 1px 2px rgba(60, 64, 67, 0.3), 0px 1px 3px 1px rgba(60, 64, 67, 0.15);\n",
              "      fill: #174EA6;\n",
              "    }\n",
              "\n",
              "    .colab-df-buttons div {\n",
              "      margin-bottom: 4px;\n",
              "    }\n",
              "\n",
              "    [theme=dark] .colab-df-convert {\n",
              "      background-color: #3B4455;\n",
              "      fill: #D2E3FC;\n",
              "    }\n",
              "\n",
              "    [theme=dark] .colab-df-convert:hover {\n",
              "      background-color: #434B5C;\n",
              "      box-shadow: 0px 1px 3px 1px rgba(0, 0, 0, 0.15);\n",
              "      filter: drop-shadow(0px 1px 2px rgba(0, 0, 0, 0.3));\n",
              "      fill: #FFFFFF;\n",
              "    }\n",
              "  </style>\n",
              "\n",
              "    <script>\n",
              "      const buttonEl =\n",
              "        document.querySelector('#df-3bb5b2ad-c210-4e23-98e1-452abe164060 button.colab-df-convert');\n",
              "      buttonEl.style.display =\n",
              "        google.colab.kernel.accessAllowed ? 'block' : 'none';\n",
              "\n",
              "      async function convertToInteractive(key) {\n",
              "        const element = document.querySelector('#df-3bb5b2ad-c210-4e23-98e1-452abe164060');\n",
              "        const dataTable =\n",
              "          await google.colab.kernel.invokeFunction('convertToInteractive',\n",
              "                                                    [key], {});\n",
              "        if (!dataTable) return;\n",
              "\n",
              "        const docLinkHtml = 'Like what you see? Visit the ' +\n",
              "          '<a target=\"_blank\" href=https://colab.research.google.com/notebooks/data_table.ipynb>data table notebook</a>'\n",
              "          + ' to learn more about interactive tables.';\n",
              "        element.innerHTML = '';\n",
              "        dataTable['output_type'] = 'display_data';\n",
              "        await google.colab.output.renderOutput(dataTable, element);\n",
              "        const docLink = document.createElement('div');\n",
              "        docLink.innerHTML = docLinkHtml;\n",
              "        element.appendChild(docLink);\n",
              "      }\n",
              "    </script>\n",
              "  </div>\n",
              "\n",
              "\n",
              "<div id=\"df-8a9a500b-9f89-4b15-98db-8e7d94b460e8\">\n",
              "  <button class=\"colab-df-quickchart\" onclick=\"quickchart('df-8a9a500b-9f89-4b15-98db-8e7d94b460e8')\"\n",
              "            title=\"Suggest charts\"\n",
              "            style=\"display:none;\">\n",
              "\n",
              "<svg xmlns=\"http://www.w3.org/2000/svg\" height=\"24px\"viewBox=\"0 0 24 24\"\n",
              "     width=\"24px\">\n",
              "    <g>\n",
              "        <path d=\"M19 3H5c-1.1 0-2 .9-2 2v14c0 1.1.9 2 2 2h14c1.1 0 2-.9 2-2V5c0-1.1-.9-2-2-2zM9 17H7v-7h2v7zm4 0h-2V7h2v10zm4 0h-2v-4h2v4z\"/>\n",
              "    </g>\n",
              "</svg>\n",
              "  </button>\n",
              "\n",
              "<style>\n",
              "  .colab-df-quickchart {\n",
              "      --bg-color: #E8F0FE;\n",
              "      --fill-color: #1967D2;\n",
              "      --hover-bg-color: #E2EBFA;\n",
              "      --hover-fill-color: #174EA6;\n",
              "      --disabled-fill-color: #AAA;\n",
              "      --disabled-bg-color: #DDD;\n",
              "  }\n",
              "\n",
              "  [theme=dark] .colab-df-quickchart {\n",
              "      --bg-color: #3B4455;\n",
              "      --fill-color: #D2E3FC;\n",
              "      --hover-bg-color: #434B5C;\n",
              "      --hover-fill-color: #FFFFFF;\n",
              "      --disabled-bg-color: #3B4455;\n",
              "      --disabled-fill-color: #666;\n",
              "  }\n",
              "\n",
              "  .colab-df-quickchart {\n",
              "    background-color: var(--bg-color);\n",
              "    border: none;\n",
              "    border-radius: 50%;\n",
              "    cursor: pointer;\n",
              "    display: none;\n",
              "    fill: var(--fill-color);\n",
              "    height: 32px;\n",
              "    padding: 0;\n",
              "    width: 32px;\n",
              "  }\n",
              "\n",
              "  .colab-df-quickchart:hover {\n",
              "    background-color: var(--hover-bg-color);\n",
              "    box-shadow: 0 1px 2px rgba(60, 64, 67, 0.3), 0 1px 3px 1px rgba(60, 64, 67, 0.15);\n",
              "    fill: var(--button-hover-fill-color);\n",
              "  }\n",
              "\n",
              "  .colab-df-quickchart-complete:disabled,\n",
              "  .colab-df-quickchart-complete:disabled:hover {\n",
              "    background-color: var(--disabled-bg-color);\n",
              "    fill: var(--disabled-fill-color);\n",
              "    box-shadow: none;\n",
              "  }\n",
              "\n",
              "  .colab-df-spinner {\n",
              "    border: 2px solid var(--fill-color);\n",
              "    border-color: transparent;\n",
              "    border-bottom-color: var(--fill-color);\n",
              "    animation:\n",
              "      spin 1s steps(1) infinite;\n",
              "  }\n",
              "\n",
              "  @keyframes spin {\n",
              "    0% {\n",
              "      border-color: transparent;\n",
              "      border-bottom-color: var(--fill-color);\n",
              "      border-left-color: var(--fill-color);\n",
              "    }\n",
              "    20% {\n",
              "      border-color: transparent;\n",
              "      border-left-color: var(--fill-color);\n",
              "      border-top-color: var(--fill-color);\n",
              "    }\n",
              "    30% {\n",
              "      border-color: transparent;\n",
              "      border-left-color: var(--fill-color);\n",
              "      border-top-color: var(--fill-color);\n",
              "      border-right-color: var(--fill-color);\n",
              "    }\n",
              "    40% {\n",
              "      border-color: transparent;\n",
              "      border-right-color: var(--fill-color);\n",
              "      border-top-color: var(--fill-color);\n",
              "    }\n",
              "    60% {\n",
              "      border-color: transparent;\n",
              "      border-right-color: var(--fill-color);\n",
              "    }\n",
              "    80% {\n",
              "      border-color: transparent;\n",
              "      border-right-color: var(--fill-color);\n",
              "      border-bottom-color: var(--fill-color);\n",
              "    }\n",
              "    90% {\n",
              "      border-color: transparent;\n",
              "      border-bottom-color: var(--fill-color);\n",
              "    }\n",
              "  }\n",
              "</style>\n",
              "\n",
              "  <script>\n",
              "    async function quickchart(key) {\n",
              "      const quickchartButtonEl =\n",
              "        document.querySelector('#' + key + ' button');\n",
              "      quickchartButtonEl.disabled = true;  // To prevent multiple clicks.\n",
              "      quickchartButtonEl.classList.add('colab-df-spinner');\n",
              "      try {\n",
              "        const charts = await google.colab.kernel.invokeFunction(\n",
              "            'suggestCharts', [key], {});\n",
              "      } catch (error) {\n",
              "        console.error('Error during call to suggestCharts:', error);\n",
              "      }\n",
              "      quickchartButtonEl.classList.remove('colab-df-spinner');\n",
              "      quickchartButtonEl.classList.add('colab-df-quickchart-complete');\n",
              "    }\n",
              "    (() => {\n",
              "      let quickchartButtonEl =\n",
              "        document.querySelector('#df-8a9a500b-9f89-4b15-98db-8e7d94b460e8 button');\n",
              "      quickchartButtonEl.style.display =\n",
              "        google.colab.kernel.accessAllowed ? 'block' : 'none';\n",
              "    })();\n",
              "  </script>\n",
              "</div>\n",
              "\n",
              "    </div>\n",
              "  </div>\n"
            ]
          },
          "metadata": {},
          "execution_count": 1
        }
      ],
      "source": [
        "#데이터 시각화 및 전처리\n",
        "import pandas as pd\n",
        "import matplotlib.pyplot as plt\n",
        "import seaborn as sns\n",
        "\n",
        "# 데이터 불러오기\n",
        "df = pd.read_csv('/content/train.csv')\n",
        "\n",
        "df.head()"
      ]
    },
    {
      "cell_type": "code",
      "source": [
        "# 간단한 통계 정보 확인\n",
        "print(df.describe())"
      ],
      "metadata": {
        "id": "rt-LuuhRAOfr",
        "colab": {
          "base_uri": "https://localhost:8080/"
        },
        "outputId": "0eba987a-18c4-4744-8374-6d5acd5753e4"
      },
      "execution_count": 2,
      "outputs": [
        {
          "output_type": "stream",
          "name": "stdout",
          "text": [
            "             label  binary-label\n",
            "count  9324.000000   9324.000000\n",
            "mean      1.849968      0.389532\n",
            "std       1.602212      0.487670\n",
            "min       0.000000      0.000000\n",
            "25%       0.200000      0.000000\n",
            "50%       1.600000      0.000000\n",
            "75%       3.400000      1.000000\n",
            "max       5.000000      1.000000\n"
          ]
        }
      ]
    },
    {
      "cell_type": "code",
      "source": [
        "# 막대 그래프로 모든 레이블 값에 대한 분포 보기\n",
        "plt.figure(figsize=(12, 6))\n",
        "sns.countplot(x='label', data=df)\n",
        "plt.title('Distribution of Labels')\n",
        "plt.xlabel('Label')\n",
        "plt.ylabel('Count')\n",
        "plt.show()"
      ],
      "metadata": {
        "id": "p4GEK05XAOiA",
        "colab": {
          "base_uri": "https://localhost:8080/",
          "height": 564
        },
        "outputId": "b787e77a-b18c-4803-c1ee-cbea9a9e7b4b"
      },
      "execution_count": 3,
      "outputs": [
        {
          "output_type": "display_data",
          "data": {
            "text/plain": [
              "<Figure size 1200x600 with 1 Axes>"
            ],
            "image/png": "[encoded data removed]"
          },
          "metadata": {}
        }
      ]
    },
    {
      "cell_type": "code",
      "source": [
        "# 두 문장의 길이 비교\n",
        "df['sentence_1_len'] = df['sentence_1'].apply(len)\n",
        "df['sentence_2_len'] = df['sentence_2'].apply(len)\n",
        "\n",
        "plt.figure(figsize=(12, 6))\n",
        "sns.kdeplot(df['sentence_1_len'], label='Sentence 1')\n",
        "sns.kdeplot(df['sentence_2_len'], label='Sentence 2')\n",
        "plt.title('Distribution of Sentence Lengths')\n",
        "plt.xlabel('Length')\n",
        "plt.ylabel('Density')\n",
        "plt.legend()\n",
        "plt.show()"
      ],
      "metadata": {
        "id": "aA8Z_iqZAOkN",
        "colab": {
          "base_uri": "https://localhost:8080/",
          "height": 564
        },
        "outputId": "0b585438-66c3-49d5-8d84-78b09e3223e3"
      },
      "execution_count": 4,
      "outputs": [
        {
          "output_type": "display_data",
          "data": {
            "text/plain": [
              "<Figure size 1200x600 with 1 Axes>"
            ],
            "image/png": "[encoded data removed]"
          },
          "metadata": {}
        }
      ]
    },
    {
      "cell_type": "markdown",
      "source": [
        "#전처리 들어갑니다잉"
      ],
      "metadata": {
        "id": "Dt20sCilE_10"
      }
    },
    {
      "cell_type": "code",
      "source": [
        "!pip install git+https://github.com/ssut/py-hanspell.git"
      ],
      "metadata": {
        "colab": {
          "base_uri": "https://localhost:8080/"
        },
        "id": "PYtk0KkjF9Jy",
        "outputId": "9ed86d73-d471-4463-e0c2-9a1a3fad34ac"
      },
      "execution_count": 5,
      "outputs": [
        {
          "output_type": "stream",
          "name": "stdout",
          "text": [
            "Collecting git+https://github.com/ssut/py-hanspell.git\n",
            "  Cloning https://github.com/ssut/py-hanspell.git to /tmp/pip-req-build-jzc4br_t\n",
            "  Running command git clone --filter=blob:none --quiet https://github.com/ssut/py-hanspell.git /tmp/pip-req-build-jzc4br_t\n",
            "  Resolved https://github.com/ssut/py-hanspell.git to commit fdc6ca50c19f1c85971437a072d89d4e5ce024b8\n",
            "  Preparing metadata (setup.py) ... \u001b[?25l\u001b[?25hdone\n",
            "Requirement already satisfied: requests in /usr/local/lib/python3.10/dist-packages (from py-hanspell==1.1) (2.31.0)\n",
            "Requirement already satisfied: charset-normalizer<4,>=2 in /usr/local/lib/python3.10/dist-packages (from requests->py-hanspell==1.1) (3.3.2)\n",
            "Requirement already satisfied: idna<4,>=2.5 in /usr/local/lib/python3.10/dist-packages (from requests->py-hanspell==1.1) (3.6)\n",
            "Requirement already satisfied: urllib3<3,>=1.21.1 in /usr/local/lib/python3.10/dist-packages (from requests->py-hanspell==1.1) (2.0.7)\n",
            "Requirement already satisfied: certifi>=2017.4.17 in /usr/local/lib/python3.10/dist-packages (from requests->py-hanspell==1.1) (2023.11.17)\n",
            "Building wheels for collected packages: py-hanspell\n",
            "  Building wheel for py-hanspell (setup.py) ... \u001b[?25l\u001b[?25hdone\n",
            "  Created wheel for py-hanspell: filename=py_hanspell-1.1-py3-none-any.whl size=4809 sha256=b04e7477291f744795190a471bc63313ab41033dee4605b52bfcc74e60c71b24\n",
            "  Stored in directory: /tmp/pip-ephem-wheel-cache-7bsp0yt2/wheels/2e/43/cc/753c9e1d91affb9ea40e186cea5654fb9231deb454da6724e5\n",
            "Successfully built py-hanspell\n",
            "Installing collected packages: py-hanspell\n",
            "Successfully installed py-hanspell-1.1\n"
          ]
        }
      ]
    },
    {
      "cell_type": "code",
      "source": [
        "import re\n",
        "from hanspell import spell_checker  # 띄어쓰기 맞춤법 검사기\n",
        "\n",
        "#한글을 제외한 모든 문자 제거\n",
        "def preprocess_text(sentence):\n",
        "    # 1. 한글과 영어를 모두 살려둠\n",
        "    sentence = re.sub(r'[^a-zA-Zㄱ-ㅎㅏ-ㅣ가-힣\\s]', '', sentence)\n",
        "\n",
        "    # 2. 특수문자가 연속으로 여러 번 있는 경우, 한 개만 남김\n",
        "    sentence = re.sub(r'([^\\w\\s])\\1+', r'\\1', sentence)\n",
        "\n",
        "    # 3. 띄어쓰기 맞춤법이 잘못되어 있는 경우, 수정\n",
        "    #spelled_sentence = spell_checker.check(sentence)\n",
        "    #corrected_sentence = spelled_sentence.checked\n",
        "\n",
        "    #return corrected_sentence\n",
        "    return sentence"
      ],
      "metadata": {
        "id": "CGTtwpSxAOoT"
      },
      "execution_count": 6,
      "outputs": []
    },
    {
      "cell_type": "code",
      "source": [
        "original_sentence = \"안녕하세요!! 특수문자가 연속으로.....여러 번 있네요. 띄어쓰기 맞춤법이 틀렸습니다.\"\n",
        "processed_sentence = preprocess_text(original_sentence)\n",
        "print(processed_sentence)"
      ],
      "metadata": {
        "id": "vHUg5MkiAOqT",
        "colab": {
          "base_uri": "https://localhost:8080/"
        },
        "outputId": "14db392f-fc30-4691-dd5e-4d4c513863d2"
      },
      "execution_count": 7,
      "outputs": [
        {
          "output_type": "stream",
          "name": "stdout",
          "text": [
            "안녕하세요 특수문자가 연속으로여러 번 있네요 띄어쓰기 맞춤법이 틀렸습니다\n"
          ]
        }
      ]
    },
    {
      "cell_type": "markdown",
      "source": [
        "#SEN1과 SEN2 위치 변경해서 증강"
      ],
      "metadata": {
        "id": "GG8SuNH3TcmV"
      }
    },
    {
      "cell_type": "code",
      "source": [
        "#데이터 시각화 및 전처리\n",
        "import pandas as pd\n",
        "import matplotlib.pyplot as plt\n",
        "import seaborn as sns\n",
        "\n",
        "\n",
        "# 데이터셋을 DataFrame으로 불러오기 (예: csv 파일을 사용하는 경우)\n",
        "df = pd.read_csv('/content/train.csv')\n",
        "\n",
        "# 'label'이 0.0이 아닌 행만 선택\n",
        "filtered_df = df[df['label'] != 0.0]\n",
        "\n",
        "# 'sentence_1'과 'sentence_2'를 교환하여 새로운 행을 만들기\n",
        "swapped_df = filtered_df.copy()\n",
        "swapped_df['temp'] = swapped_df['sentence_1']\n",
        "swapped_df['sentence_1'] = swapped_df['sentence_2']\n",
        "swapped_df['sentence_2'] = swapped_df['temp']\n",
        "swapped_df.drop(columns=['temp'], inplace=True)\n",
        "\n",
        "# 'id'를 순차적으로 증가시키기\n",
        "max_id = df['id'].apply(lambda x: int(x.split('-')[-1])).max()\n",
        "swapped_df['id'] = [f'boostcamp-sts-v1-train-{i}' for i in range(max_id + 1, max_id + 1 + len(swapped_df))]\n",
        "\n",
        "# 새로운 행을 기존 DataFrame에 추가\n",
        "df = pd.concat([df, swapped_df], ignore_index=True)\n",
        "\n",
        "# 결과를 새로운 csv 파일로 저장\n",
        "df.to_csv('new_dataset.csv', index=False)\n"
      ],
      "metadata": {
        "id": "wiY-_ClrAOsT"
      },
      "execution_count": 8,
      "outputs": []
    },
    {
      "cell_type": "markdown",
      "source": [
        "#문장 증강 후 데이터 분포 살펴보기"
      ],
      "metadata": {
        "id": "iY_TEpPxmNxv"
      }
    },
    {
      "cell_type": "code",
      "source": [
        "# 데이터셋을 DataFrame으로 불러오기 (예: csv 파일을 사용하는 경우)\n",
        "df = pd.read_csv('new_dataset.csv')\n",
        "\n",
        "# 레이블 값에 대한 분포 확인\n",
        "label_distribution = df['label'].value_counts()\n",
        "\n",
        "# 막대 그래프 생성\n",
        "plt.figure(figsize=(10, 6))\n",
        "label_distribution.sort_index().plot(kind='bar', color='skyblue')\n",
        "plt.title('Distribution of Labels')\n",
        "plt.xlabel('Label')\n",
        "plt.ylabel('Count')\n",
        "plt.show()"
      ],
      "metadata": {
        "colab": {
          "base_uri": "https://localhost:8080/",
          "height": 572
        },
        "id": "xcenQBSpZ6tM",
        "outputId": "7403f738-6072-4b3d-8c51-02e8ec01d21b"
      },
      "execution_count": 9,
      "outputs": [
        {
          "output_type": "display_data",
          "data": {
            "text/plain": [
              "<Figure size 1000x600 with 1 Axes>"
            ],
            "image/png": "[encoded data removed]"
          },
          "metadata": {}
        }
      ]
    },
    {
      "cell_type": "markdown",
      "source": [
        "# 증강하지 않고, Label이 0.0이 아닌 데이터들 그냥 문장 순서 자체만 바꿔보기"
      ],
      "metadata": {
        "id": "-RUqyDJexe80"
      }
    },
    {
      "cell_type": "code",
      "source": [
        "# 데이터셋을 DataFrame으로 불러오기 (예: csv 파일을 사용하는 경우)\n",
        "df = pd.read_csv('/content/train.csv')\n",
        "\n",
        "# 레이블이 0.0이 아닌 데이터에 대해 sentence_1과 sentence_2의 위치를 바꾸기\n",
        "non_zero_label_df = df[df['label'] != 0.0].copy()\n",
        "non_zero_label_df[['sentence_1', 'sentence_2']] = non_zero_label_df[['sentence_2', 'sentence_1']]\n",
        "\n",
        "# 모든 데이터에 대해 레이블이 0.0인 데이터도 포함하여 저장\n",
        "all_data_df = pd.concat([df[df['label'] == 0.0], non_zero_label_df], ignore_index=True)\n",
        "\n",
        "# 결과를 새로운 csv 파일로 저장\n",
        "all_data_df.to_csv('sentence_only_changed.csv', index=False)"
      ],
      "metadata": {
        "id": "mjaCJRFNxfZg"
      },
      "execution_count": 10,
      "outputs": []
    },
    {
      "cell_type": "markdown",
      "source": [
        "#각 source별로 데이터 개수 파악"
      ],
      "metadata": {
        "id": "cbHP397GpNQO"
      }
    },
    {
      "cell_type": "code",
      "source": [
        "df = pd.read_csv('/content/train.csv')\n",
        "\n",
        "# Label이 0인 값에 대한 데이터만 선택\n",
        "zero_label_df = df[df['label'] == 0]\n",
        "\n",
        "# source에 따라 데이터셋 그룹화 및 개수 세기\n",
        "source_counts = zero_label_df['source'].value_counts()\n",
        "\n",
        "# 차트로 시각화\n",
        "plt.figure(figsize=(10, 6))\n",
        "source_counts.plot(kind='bar', color='skyblue')\n",
        "plt.title('Number of Samples for Each Source (Label 0)')\n",
        "plt.xlabel('Source')\n",
        "plt.ylabel('Number of Samples')\n",
        "plt.show()"
      ],
      "metadata": {
        "colab": {
          "base_uri": "https://localhost:8080/",
          "height": 668
        },
        "id": "VvwySRE_pNoj",
        "outputId": "49b1b77a-459d-4cbf-a524-f8f16e6eaa78"
      },
      "execution_count": 11,
      "outputs": [
        {
          "output_type": "display_data",
          "data": {
            "text/plain": [
              "<Figure size 1000x600 with 1 Axes>"
            ],
            "image/png": "[encoded data removed]"
          },
          "metadata": {}
        }
      ]
    },
    {
      "cell_type": "markdown",
      "source": [
        "#Label 0.0 데이터를 떼서 5.0으로 옮겨주기(몇개?) - 500개\n",
        "#-> slack-sampled 100, petition-sampled 200, nsmc-sampled 200개\n",
        "- 선정 후 각 문장1, 문장2를 나누어서 모두 Label 5.0으로 만들 거\n",
        "- 그러기 위해 문장 2 부분을 따로 빼서 추가 증강 / 문장 1이 남은 곳에 라벨 5로 변경\n",
        "- 추가한 문장 2 부분을 데이터셋에 추가 / 라벨 5로 설정 + 적절한 띄어쓰기 문장 생성"
      ],
      "metadata": {
        "id": "SXLCusnXnjAb"
      }
    },
    {
      "cell_type": "code",
      "source": [
        "import pandas as pd\n",
        "\n",
        "# 데이터셋을 DataFrame으로 불러오기 (예: csv 파일을 사용하는 경우)\n",
        "df = pd.read_csv('/content/train.csv')\n",
        "\n",
        "# 'label'이 0.0인 데이터만 선택\n",
        "zero_label_df = df[df['label'] == 0.0]\n",
        "\n",
        "\n",
        "# 각 소스별로 일정 개수의 문장 선택\n",
        "slack_rtt_sentences = zero_label_df[zero_label_df['source'] == 'slack-sampled'].head(100)\n",
        "petition_rtt_sentences = zero_label_df[zero_label_df['source'] == 'petition-sampled'].head(200)\n",
        "nsmc_rtt_sentences = zero_label_df[zero_label_df['source'] == 'nsmc-sampled'].head(200)\n",
        "\n",
        "\n",
        "print(\"slack_rtt_sentences 개수:\", len(slack_rtt_sentences))\n",
        "print(\"petition_rtt_sentences 개수:\", len(petition_rtt_sentences))\n",
        "print(\"nsmc_rtt_sentences 개수:\", len(nsmc_rtt_sentences))\n",
        "\n",
        "\n",
        "\n",
        "# 선택된 문장들을 하나의 DataFrame으로 합치기\n",
        "selected_sentences = pd.concat([slack_rtt_sentences, petition_rtt_sentences, nsmc_rtt_sentences], ignore_index=True)\n",
        "\n",
        "\n",
        "# 결과를 새로운 csv 파일로 저장\n",
        "selected_sentences.to_csv('selected_sentences.csv', index=False)"
      ],
      "metadata": {
        "colab": {
          "base_uri": "https://localhost:8080/"
        },
        "id": "DIGyhnLgZ60o",
        "outputId": "c2646d38-3ab1-4b4c-d6b6-57484244c8f7"
      },
      "execution_count": 49,
      "outputs": [
        {
          "output_type": "stream",
          "name": "stdout",
          "text": [
            "slack_rtt_sentences 개수: 100\n",
            "petition_rtt_sentences 개수: 200\n",
            "nsmc_rtt_sentences 개수: 200\n"
          ]
        }
      ]
    },
    {
      "cell_type": "markdown",
      "source": [
        "train.csv에서, label이 0.0인 문장을 떼왔어.\n",
        "떼온 부분의 Label을 5.0으로 바꿔주고,\n",
        "문장 2 만을 떼와서 새로운 데이터셋을 만들거야.\n",
        "\n",
        "id는 boostcamp-sts-v1-train-9324부터 순차적으로 증가하고, source, label, binary_label은 기존 데이터에서 그대로 가져와서 넣어줘.\n",
        "그리고, 떼온 문장 2는 문장 1에 넣어줘."
      ],
      "metadata": {
        "id": "6hgM8dm5qk5K"
      }
    },
    {
      "cell_type": "code",
      "source": [
        "# train.csv를 DataFrame으로 불러오기\n",
        "df_train = pd.read_csv('train.csv')\n",
        "\n",
        "\n",
        "#train에서 데이터 변경\n",
        "\n",
        "# 'slack-rtt', 'petition-rtt', 'nsmc-rtt' 소스에 해당하는 데이터 인덱스 추출 / label 0인 데이만\n",
        "slack_rtt_indices = df_train[(df_train['source'] == 'slack-sampled') & (df_train['label'] == 0.0)].head(100).index\n",
        "petition_rtt_indices = df_train[(df_train['source'] == 'petition-sampled') & (df_train['label'] == 0.0)].head(200).index\n",
        "nsmc_rtt_indices = df_train[(df_train['source'] == 'nsmc-sampled') & (df_train['label'] == 0.0)].head(200).index\n",
        "\n",
        "# 'label'이 0.0인 데이터만 선택\n",
        "zero_label_df = df[df['label'] == 0.0]\n",
        "\n",
        "# 각 소스별로 일정 개수의 문장 선택\n",
        "slack_rtt_sentences = zero_label_df[zero_label_df['source'] == 'slack-sampled'].head(100)\n",
        "petition_rtt_sentences = zero_label_df[zero_label_df['source'] == 'petition-sampled'].head(200)\n",
        "nsmc_rtt_sentences = zero_label_df[zero_label_df['source'] == 'nsmc-sampled'].head(200)\n",
        "\n",
        "# 선택된 문장들을 하나의 DataFrame으로 합치기\n",
        "selected_sentences = pd.concat([slack_rtt_sentences, petition_rtt_sentences, nsmc_rtt_sentences], ignore_index=True)\n",
        "\n",
        "# 추출된 데이터의 인덱스를 참조하여 라벨을 5.0으로 변경\n",
        "df_train.loc[slack_rtt_indices, 'label'] = 5.0\n",
        "df_train.loc[petition_rtt_indices, 'label'] = 5.0\n",
        "df_train.loc[nsmc_rtt_indices, 'label'] = 5.0\n",
        "\n",
        "df_train.loc[slack_rtt_indices, 'binary-label'] = 1\n",
        "df_train.loc[petition_rtt_indices, 'binary-label'] = 1\n",
        "df_train.loc[nsmc_rtt_indices, 'binary-label'] = 1\n"
      ],
      "metadata": {
        "id": "CHrjRArHvWsD"
      },
      "execution_count": 50,
      "outputs": []
    },
    {
      "cell_type": "markdown",
      "source": [
        "- 완료 : 변환할 문장 500개 선정 + 문장데이터 따로 복사 + train에서 해당 데이터 라벨 변경\n",
        "- 이제 할거 : 해당 데이터의 SEN2를 가지고 새로운 데이터 생성"
      ],
      "metadata": {
        "id": "gyZnotiIfbs9"
      }
    },
    {
      "cell_type": "code",
      "source": [
        "#selecetd_sentences를 이용\n",
        "\n",
        "#이제 new_data에 문장2 데이터셋 생성해서 train.csv에 추가할거\n",
        "\n",
        "# 새로운 데이터셋을 위한 DataFrame 생성\n",
        "new_data = pd.DataFrame(columns=['id', 'source', 'sentence_1', 'sentence_2', 'label', 'binary-label'])\n",
        "\n",
        "# id를 boostcamp-sts-v1-train-9324부터 순차적으로 증가\n",
        "new_data['id'] = [f'boostcamp-sts-v1-train-{i}' for i in range(9324, 9324 + len(selected_sentences))]\n",
        "\n",
        "# source, label, binary_label은 기존 데이터에서 가져오기\n",
        "new_data[['source', 'label', 'binary-label']] = selected_sentences[['source', 'label', 'binary-label']]\n",
        "\n",
        "# 문장 2를 문장 1에 넣어주기\n",
        "new_data['sentence_1'] = selected_sentences['sentence_2']\n",
        "\n",
        "# label을 5.0으로 바꾸기\n",
        "new_data['label'] = 5.0\n",
        "new_data['binary-label'] = 1\n",
        "\n",
        "# 문장 2를 잘라내서 새로운 데이터로 추가\n",
        "new_data['sentence_1'] = selected_sentences['sentence_2']\n",
        "\n",
        "\n",
        "\n"
      ],
      "metadata": {
        "id": "-SHhpM5wfb9r"
      },
      "execution_count": 51,
      "outputs": []
    },
    {
      "cell_type": "markdown",
      "source": [
        "- 완료 : 새로운 데이터 셋 생성\n",
        "- 이제 할거: 전처리 함수 작성 + 수정한 데이터들에게 SEN2를 생성해서 넣어줘야 함"
      ],
      "metadata": {
        "id": "WjIFZ_dog_z7"
      }
    },
    {
      "cell_type": "code",
      "source": [
        "#!pip install git+https://github.com/ssut/py-hanspell.git\n",
        "#!pip install requests"
      ],
      "metadata": {
        "id": "gm6Yat0Gnmah"
      },
      "execution_count": null,
      "outputs": []
    },
    {
      "cell_type": "code",
      "source": [
        "#!pip install git+https://github.com/haven-jeon/PyKoSpacing.git"
      ],
      "metadata": {
        "id": "c0LdXibxuq3V"
      },
      "execution_count": null,
      "outputs": []
    },
    {
      "cell_type": "code",
      "source": [
        "'''\n",
        "from hanspell import spell_checker\n",
        "text = \"맞춤법 틀리면 외 않되? 쓰고싶은대로쓰면돼지 \"\n",
        "result = spell_checker.check(text)\n",
        "print(type(result))\n",
        "'''"
      ],
      "metadata": {
        "colab": {
          "base_uri": "https://localhost:8080/",
          "height": 52
        },
        "id": "r6m5xI7JyFg0",
        "outputId": "dede9be0-d1da-4fb7-a146-a0d1c7c1e005"
      },
      "execution_count": 13,
      "outputs": [
        {
          "output_type": "execute_result",
          "data": {
            "text/plain": [
              "'\\nfrom hanspell import spell_checker\\ntext = \"맞춤법 틀리면 외 않되? 쓰고싶은대로쓰면돼지 \"\\nresult = spell_checker.check(text)\\nprint(type(result))\\n'"
            ],
            "application/vnd.google.colaboratory.intrinsic+json": {
              "type": "string"
            }
          },
          "metadata": {},
          "execution_count": 13
        }
      ]
    },
    {
      "cell_type": "code",
      "source": [
        "from hanspell import spell_checker\n",
        "import requests\n",
        "from pykospacing import Spacing\n",
        "\n",
        "# 전처리 함수\n",
        "def preprocess_text(sentence):\n",
        "    # 공백 있는 문자열\n",
        "\n",
        "    no_space = sentence.replace(\" \" , \"\")    # replace 함수를 이용해서 공백 제거\n",
        "    spacing = Spacing()\n",
        "    return spacing(sentence)     #띄어쓰기 진행\n",
        "\n",
        "a = preprocess_text(\"맞춤법 틀리면 외 않되? 쓰고싶은대로쓰면돼지 \")\n",
        "print(a)"
      ],
      "metadata": {
        "colab": {
          "base_uri": "https://localhost:8080/"
        },
        "id": "xvO1ezs8kpDd",
        "outputId": "2e0ad204-0d7a-47f8-8834-61a4677cf93e"
      },
      "execution_count": 63,
      "outputs": [
        {
          "output_type": "stream",
          "name": "stdout",
          "text": [
            "맞춤법 틀리면 외 않되? 쓰고 싶은 대로 쓰면 돼지\n"
          ]
        }
      ]
    },
    {
      "cell_type": "code",
      "source": [
        "# 각 소스별로 일정 개수의 문장 선택\n",
        "slack_rtt_sentences\n",
        "petition_rtt_sentences\n",
        "nsmc_rtt_sentences\n",
        "\n",
        "# 'sentence_1'을 전처리하여 'sentence_2'에 대입 (slack-rtt, petition-rtt, nsmc-rtt에 해당하는 데이터만 처리)\n",
        "df_train.loc[slack_rtt_indices, 'sentence_2'] = df_train.loc[slack_rtt_indices, 'sentence_1'].apply(preprocess_text)\n",
        "df_train.loc[petition_rtt_indices, 'sentence_2'] = df_train.loc[petition_rtt_indices, 'sentence_1'].apply(preprocess_text)\n",
        "df_train.loc[nsmc_rtt_indices, 'sentence_2'] = df_train.loc[nsmc_rtt_indices, 'sentence_1'].apply(preprocess_text)"
      ],
      "metadata": {
        "id": "hwB8Mf_1hWUU"
      },
      "execution_count": 53,
      "outputs": []
    },
    {
      "cell_type": "code",
      "source": [
        "# 'slack_rtt_indices', 'petition_rtt_indices', 'nsmc_rtt_indices'에 해당하는 데이터프레임 확인\n",
        "slack_rtt_data = df_train.loc[slack_rtt_indices, ['sentence_1', 'sentence_2']]\n",
        "petition_rtt_data = df_train.loc[petition_rtt_indices, ['sentence_1', 'sentence_2']]\n",
        "nsmc_rtt_data = df_train.loc[nsmc_rtt_indices, ['sentence_1', 'sentence_2']]\n",
        "\n",
        "# 출력\n",
        "print(\"slack_rtt_data:\")\n",
        "print(slack_rtt_data)\n",
        "\n",
        "print(\"\\npetition_rtt_data:\")\n",
        "print(petition_rtt_data)\n",
        "\n",
        "print(\"\\nnsmc_rtt_data:\")\n",
        "print(nsmc_rtt_data)"
      ],
      "metadata": {
        "colab": {
          "base_uri": "https://localhost:8080/"
        },
        "id": "pmfL6ABDyzAv",
        "outputId": "9f94f4db-0123-4a96-fa8b-02f457394961"
      },
      "execution_count": 54,
      "outputs": [
        {
          "output_type": "stream",
          "name": "stdout",
          "text": [
            "slack_rtt_data:\n",
            "                                       sentence_1  \\\n",
            "4                                      뿌듯뿌듯 하네요!!   \n",
            "14                아래는 게임 내에서 함께 팀을 맺고 캡쳐한 이미지입니다.   \n",
            "20                               앞머리 새로 하셨습니다. ^^   \n",
            "22                         답답할 때 보면 속이 뻥 뚫릴 것 같아요   \n",
            "46                          저는 왜 솥에 들어가계시나 했어요 ㅋㅋ   \n",
            "...                                           ...   \n",
            "1118  저도 모르게.. 하와이 간접체험 할 사람마냥 넘나리 많은 질문들을 드렸네요ㅋㅋ   \n",
            "1136                         ㅋㅋ 제가 디렉팅 / 슈팅 했습니다!   \n",
            "1167                    아마 내부에 스테프 있어서 돌리시는 중일듯요.   \n",
            "1185                           참가하실분들 댓글 부탁드립니당 ㅎ   \n",
            "1186                            ㅋㅋ앜ㅋㅋㅋ참새 세상에나....   \n",
            "\n",
            "                                          sentence_2  \n",
            "4                                        뿌듯 뿌듯 하네요!!  \n",
            "14                   아래는 게임 내에서 함께 팀을 맺고 캡쳐한 이미지입니다.  \n",
            "20                                     앞머리 새로 하셨습니다.  \n",
            "22                            답답할 때 보면 속이 뻥 뚫릴 것 같아요  \n",
            "46                            저는 왜 솥에 들어 가계시나 했어요 ㅋㅋ  \n",
            "...                                              ...  \n",
            "1118  저도 모르게.. 하와이 간접 체험 할 사람 마냥 넘나리 많은 질문들을 드렸네요 ㅋㅋ  \n",
            "1136                            ㅋㅋ 제가 디렉팅 / 슈팅 했습니다!  \n",
            "1167                      아마 내부에 스테프 있어서 돌리시는 중일 듯요.  \n",
            "1185                             참가하실 분들 댓글 부탁드립니당 ㅎ  \n",
            "1186                              ㅋㅋ앜ㅋㅋㅋ 참새 세상에나....  \n",
            "\n",
            "[100 rows x 2 columns]\n",
            "\n",
            "petition_rtt_data:\n",
            "                         sentence_1                      sentence_2\n",
            "19           내년 러시아월드컵 자진포기 청원드립니다.       내년 러시아 월드컵 자진 포기 청원 드립니다.\n",
            "41                       나이가 문제인가요?                      나이가 문제인가요?\n",
            "54      지금 있는 시설 관리라도 좀 잘 했으면 좋겠습니다     지금 있는 시설 관리라도 좀 잘 했으면 좋겠습니다\n",
            "79                  조두순 형량증가를 청원합니다                조두순 형량 증가를 청원합니다\n",
            "82                 대동강 맥주 수입바랍니다!!!               대동강 맥주 수입 바랍니다!!!\n",
            "...                             ...                             ...\n",
            "2978                    탈원전 폐지 국민투표                     탈원전 폐지 국민투표\n",
            "3003  등교 시간대(7시~8시 30분)의 공사를 제한해주세요  등교 시간대(7시~8시 30분)의 공사를 제한해 주세요\n",
            "3006             (현직 변호사) 사법 피해 호소문              (현직 변호사) 사법 피해 호소문\n",
            "3010           김기덕 조재현과 매니저 성폭범입니다.           김기덕 조재현과 매니저 성폭 범입니다.\n",
            "3013      국토부와 환경부는 서로 커뮤니케이션이 되는지!       국토부와 환경부는 서로 커뮤니케이션이 되는지!\n",
            "\n",
            "[200 rows x 2 columns]\n",
            "\n",
            "nsmc_rtt_data:\n",
            "                                sentence_1  \\\n",
            "23    노래와 잘 어우러지는 영상 덕분인지 짧지만 강한 인상이 남네요..   \n",
            "38                   아무리그래도 걸어간다는 설정은쫌-_-;   \n",
            "47        동생이랑같이봤는데살인데 그닥무서워하지않고 잘본것같음....   \n",
            "55                          근데 멜로연기는 영 ㅋㅋㅋ   \n",
            "76                 후반들어 법적공방과 반전은 이영화의 묘미.   \n",
            "...                                    ...   \n",
            "3125                     직원분들 알바하시지 마시길...   \n",
            "3143                       이래서 레이드가 나왔구나..   \n",
            "3149                        아 또 보고싶은 영화...   \n",
            "3155                     왜 이런 영화에 출연하셨을까..   \n",
            "3156              살인자도 나름대로 정당성을 항변할 수 있다.   \n",
            "\n",
            "                                     sentence_2  \n",
            "23         노래와 잘 어우러지는 영상 덕분인지 짧지만 강한 인상이 남네요..  \n",
            "38                      아무리 그래도 걸어간다는 설정은 쫌-_-;  \n",
            "47    동생이랑 같이 봤는데 살인데 그 닥 무서워하지 않고 잘 본 것 같음....  \n",
            "55                              근데 멜로 연기는 영 ㅋㅋㅋ  \n",
            "76                   후반 들어 법적 공방과 반전은 이 영화의 묘미.  \n",
            "...                                         ...  \n",
            "3125                         직원 분들 알바하시지 마시길...  \n",
            "3143                            이래서 레이드가 나왔구나..  \n",
            "3149                            아 또 보고 싶은 영화...  \n",
            "3155                          왜 이런 영화에 출연하셨을까..  \n",
            "3156                   살인자도 나름대로 정당성을 항변할 수 있다.  \n",
            "\n",
            "[200 rows x 2 columns]\n"
          ]
        }
      ]
    },
    {
      "cell_type": "code",
      "source": [
        "print(new_data.shape)\n",
        "print(selected_sentences.shape)"
      ],
      "metadata": {
        "colab": {
          "base_uri": "https://localhost:8080/"
        },
        "id": "UhSC0KU1zmx0",
        "outputId": "2a7cce90-079f-44e1-d5d7-427b36b37a5b"
      },
      "execution_count": 55,
      "outputs": [
        {
          "output_type": "stream",
          "name": "stdout",
          "text": [
            "(500, 6)\n",
            "(500, 6)\n"
          ]
        }
      ]
    },
    {
      "cell_type": "code",
      "source": [
        "# 문장 2를 잘라내서 새로운 데이터로 추가, 'preprocess_text' 함수를 사용하여 전처리\n",
        "new_data['sentence_2'] = new_data['sentence_1'].apply(preprocess_text)\n",
        "\n",
        "# df_train에 new_data 추가\n",
        "df_train = pd.concat([df_train, new_data], ignore_index=True)\n",
        "\n",
        "# 결과를 새로운 csv 파일로 저장\n",
        "df_train.to_csv('modified_train_dataset.csv', index=False)"
      ],
      "metadata": {
        "id": "Nsop3j6gyxUV"
      },
      "execution_count": 56,
      "outputs": []
    },
    {
      "cell_type": "code",
      "source": [
        "#데이터 시각화 및 전처리\n",
        "import pandas as pd\n",
        "import matplotlib.pyplot as plt\n",
        "import seaborn as sns\n",
        "\n",
        "df = pd.read_csv('/content/modified_train_dataset.csv')\n",
        "plt.figure(figsize=(12, 6))\n",
        "sns.countplot(x='label', data=df)\n",
        "plt.title('Distribution of Labels')\n",
        "plt.xlabel('Label')\n",
        "plt.ylabel('Count')\n",
        "plt.show()"
      ],
      "metadata": {
        "colab": {
          "base_uri": "https://localhost:8080/",
          "height": 564
        },
        "id": "dslGvdiA0EYU",
        "outputId": "0e1de6db-130a-4305-9702-df6bc3842377"
      },
      "execution_count": 57,
      "outputs": [
        {
          "output_type": "display_data",
          "data": {
            "text/plain": [
              "<Figure size 1200x600 with 1 Axes>"
            ],
            "image/png": "[encoded data removed]"
          },
          "metadata": {}
        }
      ]
    }
  ]
}